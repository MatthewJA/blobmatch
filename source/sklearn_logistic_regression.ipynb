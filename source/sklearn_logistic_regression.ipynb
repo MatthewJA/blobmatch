{
 "cells": [
  {
   "cell_type": "code",
   "execution_count": null,
   "metadata": {},
   "outputs": [],
   "source": [
    "#!/usr/bin/env python3\n",
    "\"\"\"sklearn_logistic_regression.ipynb\n",
    "James Gardner 2019\n",
    "with significant contributions from Matthew Alger\n",
    "\n",
    "performs logistic regression on feature vectors\n",
    "against positional matching labels using sklearn\n",
    "\n",
    "must be run in directory containing patch_catalogue.csv\n",
    "as output by feature_vectors.ipynb as well as manual_labels.csv\n",
    "\n",
    "will save the following:\n",
    "weights.csv, predictions.csv, objects.csv, multi_objects.csv,\n",
    "torch_lr_losses.pdf, torch_lr_weights.pdf, torch_lr_predictions.pdf, torch_lr_partition.pdf\n",
    "\"\"\"\n",
    "\n",
    "import pandas as pd\n",
    "import numpy as np\n",
    "from tqdm import tqdm_notebook as tqdm\n",
    "import matplotlib.pyplot as plt\n",
    "\n",
    "import sklearn.linear_model\n",
    "import sklearn.ensemble"
   ]
  },
  {
   "cell_type": "code",
   "execution_count": null,
   "metadata": {},
   "outputs": [],
   "source": [
    "catalogue = pd.read_csv('patch_catalogue.csv')\n",
    "catalogue.set_index(['name_TGSS','name_NVSS'],inplace=True)\n",
    "\n",
    "scores = catalogue['score']\n",
    "# remove positions and label, we don't ask regression to recover separation\n",
    "del (catalogue['ra_TGSS'],catalogue['dec_TGSS'],catalogue['ra_NVSS'],\n",
    "     catalogue['dec_NVSS'],catalogue['score'])\n",
    "\n",
    "# uncomment to see other importances when separation can't dominate\n",
    "# del catalogue['separation']\n",
    "\n",
    "catalogue['log_flux_TGSS']       = np.log10(catalogue['peak_TGSS'])\n",
    "catalogue['log_integrated_TGSS'] = np.log10(catalogue['integrated_TGSS'])\n",
    "catalogue['log_ratio_flux_TGSS'] = np.log10(catalogue['peak_TGSS']/catalogue['integrated_TGSS'])\n",
    "catalogue['log_flux_NVSS']       = np.log10(catalogue['peak_NVSS'])"
   ]
  },
  {
   "cell_type": "code",
   "execution_count": null,
   "metadata": {},
   "outputs": [],
   "source": [
    "# train on half the catalogue, test classifier on all of it\n",
    "labels = (scores.values > 0.1)\n",
    "labels_A = labels[::2]\n",
    "\n",
    "features = catalogue.values\n",
    "features_A = features[::2]"
   ]
  },
  {
   "cell_type": "code",
   "execution_count": null,
   "metadata": {},
   "outputs": [],
   "source": [
    "# run logistic regression and compute accuracy\n",
    "# here sklearn is way faster and more accurate compared to pytorch!\n",
    "lr_model = sklearn.linear_model.LogisticRegression()\n",
    "lr_model.fit(features_A,labels_A)\n",
    "predictions = lr_model.predict(features)\n",
    "\n",
    "accuracy = np.mean(predictions == labels)\n",
    "print('over whole catalogue: accuracy =',accuracy)"
   ]
  },
  {
   "cell_type": "code",
   "execution_count": null,
   "metadata": {},
   "outputs": [],
   "source": [
    "# careful, these are the magnitude of the weights\n",
    "weights = lr_model.coef_.copy()\n",
    "weights /= weights.sum()\n",
    "\n",
    "# create plot of all the 'weights'\n",
    "plt.figure(figsize=(14,7))\n",
    "plt.rcParams.update({'font.size': 18})\n",
    "plt.bar(range(len(weights[0])),weights[0])\n",
    "plt.xlabel('weights')\n",
    "plt.xticks(range(len(weights[0])),catalogue.columns,rotation='vertical')\n",
    "plt.ylabel('co-eff')\n",
    "plt.title('sklearn logistic regression - importances')\n",
    "plt.savefig('sklearn_lr.pdf',bbox_inches='tight') "
   ]
  },
  {
   "cell_type": "code",
   "execution_count": null,
   "metadata": {},
   "outputs": [],
   "source": [
    "# compare against manual labels\n",
    "manual_labels = pd.read_csv('manual_labels.csv')\n",
    "manual_labels.set_index(['name_TGSS','name_NVSS'],inplace=True)\n",
    "man_cat = catalogue.loc[manual_labels.index.values]\n",
    "\n",
    "label_man = manual_labels['manual_label'].values\n",
    "features_man = man_cat.values\n",
    "pred_man = lr_model.predict(features_man)\n",
    "\n",
    "accuracy = (pred_man == label_man).mean()\n",
    "precision = (label_man[pred_man == True] == True).mean()\n",
    "recall    = (pred_man[label_man == True] == True).mean() \n",
    "print(('on manual labels:\\n accuracy = {0:.3f}, precision = {1:.3f}, recall = {2:.3f}')\n",
    "      .format(accuracy,precision,recall))"
   ]
  },
  {
   "cell_type": "code",
   "execution_count": null,
   "metadata": {},
   "outputs": [],
   "source": [
    "# similar, but now using a random forest model\n",
    "rf_model = sklearn.ensemble.RandomForestClassifier()\n",
    "rf_model.fit(features[::2],labels[::2])\n",
    "\n",
    "predictions = rf_model.predict(features[1::2])\n",
    "accuracy = np.mean(predictions == labels[1::2])\n",
    "print('over whole catalogue: accuracy =',accuracy)\n",
    "\n",
    "rf_weights = rf_model.feature_importances_\n",
    "rf_weights /= rf_weights.sum()"
   ]
  },
  {
   "cell_type": "code",
   "execution_count": null,
   "metadata": {},
   "outputs": [],
   "source": [
    "# create plot of random forest weights\n",
    "plt.figure(figsize=(14,7))\n",
    "plt.rcParams.update({'font.size': 18})\n",
    "plt.bar(range(len(rf_weights)),rf_weights)\n",
    "plt.xlabel('weights')\n",
    "plt.xticks(range(len(rf_weights)),catalogue.columns,rotation='vertical')\n",
    "plt.ylabel('co-eff')\n",
    "plt.title('sklearn random forest - importances')\n",
    "plt.savefig('sklearn_rf.pdf',bbox_inches='tight')"
   ]
  },
  {
   "cell_type": "code",
   "execution_count": null,
   "metadata": {},
   "outputs": [],
   "source": []
  }
 ],
 "metadata": {
  "kernelspec": {
   "display_name": "Python 3",
   "language": "python",
   "name": "python3"
  },
  "language_info": {
   "codemirror_mode": {
    "name": "ipython",
    "version": 3
   },
   "file_extension": ".py",
   "mimetype": "text/x-python",
   "name": "python",
   "nbconvert_exporter": "python",
   "pygments_lexer": "ipython3",
   "version": "3.6.8"
  }
 },
 "nbformat": 4,
 "nbformat_minor": 2
}
