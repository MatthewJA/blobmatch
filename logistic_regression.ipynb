{
 "cells": [
  {
   "cell_type": "code",
   "execution_count": 1,
   "metadata": {},
   "outputs": [],
   "source": [
    "#!/usr/bin/env python3\n",
    "\"\"\"logistic_regression\n",
    "James Gardner 2019\n",
    "\n",
    "performs logistic regression on feature vectors\n",
    "against positional matching labels\n",
    "using pytorch\n",
    "\"\"\"\n",
    "\n",
    "import pandas as pd\n",
    "import numpy as np\n",
    "from tqdm import tqdm_notebook as tqdm\n",
    "import matplotlib.pyplot as plt\n",
    "\n",
    "import torch\n",
    "from torch.autograd import Variable\n",
    "import torch.nn.functional as F"
   ]
  },
  {
   "cell_type": "code",
   "execution_count": null,
   "metadata": {},
   "outputs": [],
   "source": [
    "# Step 1. Load Dataset\n",
    "# Step 2. Make Dataset Iterable\n",
    "# Step 3. Create Model Class\n",
    "# Step 4. Instantiate Model Class\n",
    "# Step 5. Instantiate Loss Class\n",
    "# Step 6. Instantiate Optimizer Class\n",
    "# Step 7. Train Model"
   ]
  },
  {
   "cell_type": "code",
   "execution_count": null,
   "metadata": {},
   "outputs": [],
   "source": [
    "catalogue = pd.read_csv('patch_catalogue.csv')\n",
    "catalogue.set_index(['name_TGSS','name_NVSS'],inplace=True)\n",
    "\n",
    "scores = catalogue['score']\n",
    "del (catalogue['ra_TGSS'],catalogue['dec_TGSS'],\n",
    "     catalogue['ra_NVSS'],catalogue['dec_NVSS'],\n",
    "     catalogue['score'])\n",
    "\n",
    "catalogue['log_flux_TGSS']       = np.log10(catalogue['peak_TGSS'])\n",
    "catalogue['log_integrated_TGSS'] = np.log10(catalogue['integrated_TGSS'])\n",
    "catalogue['log_ratio_flux_TGSS'] = np.log10(catalogue['peak_TGSS']/\n",
    "                                            catalogue['integrated_TGSS'])\n",
    "catalogue['log_flux_NVSS']       = np.log10(catalogue['peak_NVSS'])"
   ]
  },
  {
   "cell_type": "code",
   "execution_count": null,
   "metadata": {},
   "outputs": [],
   "source": [
    "labels = (scores.values > 0.1)\n",
    "features = catalogue.values\n",
    "\n",
    "features = Variable(torch.Tensor(???))\n",
    "labels = Variable(torch.Tensor(???))"
   ]
  },
  {
   "cell_type": "code",
   "execution_count": 8,
   "metadata": {},
   "outputs": [],
   "source": [
    "class LogisticRegression(torch.nn.Module):\n",
    "    def __init__(self, input_dim, output_dim):\n",
    "        super().__init__()\n",
    "        self.linear = torch.nn.Linear(input_dim, output_dim)\n",
    "        \n",
    "    def forward(self, x):\n",
    "        outputs = F.sigmoid(self.linear(x))\n",
    "        return outputs"
   ]
  },
  {
   "cell_type": "code",
   "execution_count": null,
   "metadata": {},
   "outputs": [],
   "source": [
    "input_dim  = 1\n",
    "output_dim = 1\n",
    "lr_rate = 0.01\n",
    "\n",
    "# batch_size = 100\n",
    "# n_iters    = 3000\n",
    "# num_epochs = n_iters / (len(x_data) / batch_size)\n",
    "num_epochs = 100"
   ]
  },
  {
   "cell_type": "code",
   "execution_count": 9,
   "metadata": {},
   "outputs": [
    {
     "name": "stderr",
     "output_type": "stream",
     "text": [
      "/home/james/.local/lib/python3.6/site-packages/torch/nn/_reduction.py:46: UserWarning: size_average and reduce args will be deprecated, please use reduction='mean' instead.\n",
      "  warnings.warn(warning.format(ret))\n"
     ]
    }
   ],
   "source": [
    "model = LogisticRegression(input_dim, output_dim)\n",
    "# criterion = torch.nn.CrossEntropyLoss()\n",
    "criterion = torch.nn.BCELoss(size_average=True)\n",
    "optimizer = torch.optim.SGD(model.parameters(), lr=lr_rate)"
   ]
  },
  {
   "cell_type": "code",
   "execution_count": null,
   "metadata": {},
   "outputs": [],
   "source": [
    "for epoch in range(num_epochs):\n",
    "    # reset gradient accumulation\n",
    "    optimizer.zero_grad()\n",
    "    # forward step\n",
    "    predictions = model(features)\n",
    "    loss = criterion(predictions, labels)\n",
    "    # backwards step\n",
    "    loss.backward()\n",
    "    optimizer.step()"
   ]
  },
  {
   "cell_type": "code",
   "execution_count": null,
   "metadata": {},
   "outputs": [],
   "source": [
    "weights = ???"
   ]
  },
  {
   "cell_type": "code",
   "execution_count": null,
   "metadata": {},
   "outputs": [],
   "source": [
    "plt.figure(figsize=(14,7))\n",
    "plt.rcParams.update({'font.size': 18})\n",
    "plt.bar(range(len(weights)),weights)\n",
    "plt.xlabel('weights')\n",
    "plt.xticks(range(len(weights)),catalogue.columns,rotation='vertical')\n",
    "plt.ylabel('co-eff')\n",
    "plt.title('torch_lr')\n",
    "plt.savefig('torch_lr.pdf',bbox_inches='tight') \n",
    "# plt.close()"
   ]
  },
  {
   "cell_type": "code",
   "execution_count": null,
   "metadata": {},
   "outputs": [],
   "source": [
    "# model = LinearRegression()\n",
    "# criterion = torch.nn.MSELoss(size_average=False)\n",
    "# optimizer = torch.optim.SGD(model.parameters(), lr=0.01)"
   ]
  }
 ],
 "metadata": {
  "kernelspec": {
   "display_name": "Python 3",
   "language": "python",
   "name": "python3"
  },
  "language_info": {
   "codemirror_mode": {
    "name": "ipython",
    "version": 3
   },
   "file_extension": ".py",
   "mimetype": "text/x-python",
   "name": "python",
   "nbconvert_exporter": "python",
   "pygments_lexer": "ipython3",
   "version": "3.6.8"
  }
 },
 "nbformat": 4,
 "nbformat_minor": 2
}
