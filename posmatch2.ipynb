{
 "cells": [
  {
   "cell_type": "code",
   "execution_count": 1,
   "metadata": {},
   "outputs": [],
   "source": [
    "#!/usr/bin/env python3\n",
    "\"\"\"posmatch2\n",
    "James Gardner 2019\n",
    "run in directory with NVSSCatalog.text and TGSSADR1_7sigma_catalog.tsv\n",
    "creates: matches.npy, catalogue.csv\"\"\"\n",
    "\n",
    "import numpy as np\n",
    "from astropy.io import fits\n",
    "from tqdm import tqdm_notebook as tqdm\n",
    "import matplotlib.pyplot as plt\n",
    "\n",
    "# separation limits, 30'' and 20'\n",
    "GOOD = 30*1/3600\n",
    "LOOSE = 2*60*1/3600\n",
    "GOOD = LOOSE"
   ]
  },
  {
   "cell_type": "code",
   "execution_count": 2,
   "metadata": {},
   "outputs": [],
   "source": [
    "def generate_matches():\n",
    "    \"\"\"generates matches.py, containing all pairs from tgss, nvss\n",
    "    s.t. a basic estimate for their separation is closer than GOOD\"\"\"\n",
    "    tgss = np.genfromtxt(\n",
    "        fname=\"TGSSADR1_7sigma_catalog.tsv\",\n",
    "        delimiter='\\t',\n",
    "        skip_header=1,\n",
    "        usecols=(1,3))\n",
    "    #Source_name,RA,E_RA,DEC,E_DEC,Total_flux,E_Total_flux,Peak_flux,E_Peak_flux,...\n",
    "\n",
    "    with fits.open(\"CATALOG.FIT\") as hdulist:\n",
    "        data = hdulist[1].data\n",
    "        nvss = np.column_stack((data['RA(2000)'],data['DEC(2000)']))\n",
    "    #     hdulist.info()\n",
    "    #     hdr = hdulist[0].header\n",
    "    #     print(repr(hdr))\n",
    "    #     cols = hdulist[1].columns\n",
    "    #     cols.info()    \n",
    "\n",
    "    print(np.shape(tgss),np.shape(nvss))\n",
    "    tgss = tgss[tgss[:,1].argsort()]\n",
    "    nvss = nvss[nvss[:,1].argsort()]\n",
    "    # print(tgss)\n",
    "    # print(nvss)\n",
    "\n",
    "    # create 0.1 deg bins of nvss\n",
    "    nvss_dec_min = round(nvss[:,1].min(),1)\n",
    "    nvss_dec_max = round(nvss[:,1].max(),1)\n",
    "\n",
    "    # chunkis is index of where bin starts\n",
    "    bin_size = 0.1\n",
    "    mark = nvss_dec_min - bin_size\n",
    "    chunkis = []\n",
    "    count = 0\n",
    "    # finding the first element in each bin\n",
    "    for i,dec in enumerate(nvss[:,1]):    \n",
    "        if mark < dec < mark + bin_size:\n",
    "            chunkis.append(i)\n",
    "            mark += bin_size\n",
    "\n",
    "    bins = [x/10 for x in range(int((nvss_dec_min-bin_size)*10),\n",
    "                                int((nvss_dec_max+bin_size+0.01)*10))]\n",
    "\n",
    "    cos_dec = np.array([np.cos(dec*np.pi/180) for dec in bins])\n",
    "\n",
    "    print(chunkis[:5],'...',chunkis[-5:])\n",
    "    print(bins[:5],'...',bins[-5:])\n",
    "\n",
    "    matches = []\n",
    "    bar = tqdm(total=len(tgss))\n",
    "\n",
    "    # this takes at least 30 minutes to complete\n",
    "    for i1,p1 in enumerate(tgss):\n",
    "        if p1[1] < nvss_dec_min - 0.1:\n",
    "            bar.update(1)\n",
    "            continue\n",
    "        elif p1[1] > nvss_dec_max + 0.1:\n",
    "            break\n",
    "\n",
    "        which_bin = bins.index(np.floor(p1[1]*10)/10)\n",
    "        # look both ways: -1, 0, +1\n",
    "        nslice = chunkis[which_bin-1],chunkis[which_bin+2]\n",
    "\n",
    "        for i2,p2 in enumerate(nvss[nslice[0]:nslice[1]]):\n",
    "            # else need careful with azimuth near poles\n",
    "            #if abs((p1[0]-p2[0])*np.cos(p1[1]))<GOOD and abs(p1[1]-p2[1])<GOOD:\n",
    "            #if abs(p1[1]-p2[1])<GOOD:\n",
    "            if (abs((p1[0]-p2[0])*cos_dec[which_bin]) < GOOD\n",
    "                    and abs(p1[1]-p2[1]) < GOOD):\n",
    "                matches.append((p1,p2))\n",
    "                #print('matched: ',p1,p2,sep='')\n",
    "        bar.postfix = 'matches = {}'.format(len(matches))\n",
    "        bar.update(1)\n",
    "    matches = np.array(matches)\n",
    "    np.save('matches.npy', matches)"
   ]
  },
  {
   "cell_type": "code",
   "execution_count": 3,
   "metadata": {},
   "outputs": [],
   "source": [
    "def geodist(p1,p2):\n",
    "    \"\"\"given two points close on the unit sphere,\n",
    "    return their geodesic distance,\n",
    "    must be in radians!\"\"\"\n",
    "    ra1,dec1,ra2,dec2 = p1[0],p1[1],p2[0],p2[1]\n",
    "    #https://en.wikipedia.org/wiki/Great-circle_distance#Formulae\n",
    "    decdiff = (dec1-dec2)/2\n",
    "    radiff  = (ra1-ra2)/2\n",
    "    better_circle = 2*np.arcsin(np.sqrt(np.sin(decdiff)**2\n",
    "                    + np.cos(dec1)*np.cos(dec2) * np.sin(radiff)**2))\n",
    "    r = 1\n",
    "    return better_circle*r\n",
    "\n",
    "def degdist(p1,p2):\n",
    "    \"\"\"calls geodist on argument points,\n",
    "    after converting from deg to rad and back\"\"\"\n",
    "    return 180/np.pi*geodist([x*np.pi/180 for x in p1],\n",
    "                             [x*np.pi/180 for x in p2])"
   ]
  },
  {
   "cell_type": "code",
   "execution_count": 4,
   "metadata": {},
   "outputs": [
    {
     "name": "stdout",
     "output_type": "stream",
     "text": [
      "initial matches: (752874, 2, 2)\n"
     ]
    },
    {
     "data": {
      "application/vnd.jupyter.widget-view+json": {
       "model_id": "6034d0dbc8434481b2b47b38367b405d",
       "version_major": 2,
       "version_minor": 0
      },
      "text/plain": [
       "HBox(children=(IntProgress(value=0, max=752874), HTML(value='')))"
      ]
     },
     "metadata": {},
     "output_type": "display_data"
    },
    {
     "name": "stdout",
     "output_type": "stream",
     "text": [
      "\n",
      "catalogue: (720631, 11)\n",
      "[['' 194.89285 -40.3782 '' 194.89705275844463 -40.37910459184406\n",
      "  0.0033269169946461537 0 0 0 0]\n",
      " ['' 249.00481 -40.37202 '' 249.0051205759682 -40.373689585817495\n",
      "  0.001686268510645244 0 0 0 0]\n",
      " ['' 281.11865 -40.36609 '' 281.12787966512604 -40.369811721711265\n",
      "  0.007956222815131907 0 0 0 0]\n",
      " ['' 281.11865 -40.36609 '' 281.1604078720839 -40.36764327853966\n",
      "  0.031853758065035126 0 0 0 0]\n",
      " ['' 281.11865 -40.36609 '' 281.1131907052817 -40.36367443721616\n",
      "  0.004810141887820146 0 0 0 0]]\n"
     ]
    }
   ],
   "source": [
    "matches = np.load('matches.npy')\n",
    "print('initial matches:',matches.shape)\n",
    "\n",
    "# filter with geodesic distance metric\n",
    "catalogue = []\n",
    "for m in tqdm(matches):\n",
    "    # tgss,nvss\n",
    "    p1,p2 = m\n",
    "    d = degdist(p1,p2)\n",
    "    if d < GOOD:\n",
    "        catalogue.append(('',p1[0],p1[1],\\\n",
    "                          '',p2[0],p2[1],\\\n",
    "                          d,0,0,0,0))\n",
    "# Tname,Tra,Tdec,Nname,Nra,Ndec,sepdist,nonuniqueflag,Tflux,Nflux,alpha\n",
    "catalogue = np.array(catalogue,dtype=object)\n",
    "print('catalogue:',catalogue.shape)\n",
    "print(catalogue[:5])"
   ]
  },
  {
   "cell_type": "code",
   "execution_count": 5,
   "metadata": {},
   "outputs": [
    {
     "data": {
      "application/vnd.jupyter.widget-view+json": {
       "model_id": "7ddff0685fbe4db2b1f5f12c689e3aa0",
       "version_major": 2,
       "version_minor": 0
      },
      "text/plain": [
       "HBox(children=(IntProgress(value=0, max=720631), HTML(value='')))"
      ]
     },
     "metadata": {},
     "output_type": "display_data"
    },
    {
     "name": "stdout",
     "output_type": "stream",
     "text": [
      "\n",
      "catalogue: (720631, 11)\n",
      "[['' 194.89285 -40.3782 '' 194.89705275844463 -40.37910459184406\n",
      "  0.0033269169946461537 0 0 0 0]\n",
      " ['' 249.00481 -40.37202 '' 249.0051205759682 -40.373689585817495\n",
      "  0.001686268510645244 0 0 0 0]\n",
      " ['' 281.11865 -40.36609 '' 281.12787966512604 -40.369811721711265\n",
      "  0.007956222815131907 1 0 0 0]\n",
      " ['' 281.11865 -40.36609 '' 281.1604078720839 -40.36764327853966\n",
      "  0.031853758065035126 1 0 0 0]\n",
      " ['' 281.11865 -40.36609 '' 281.1131907052817 -40.36367443721616\n",
      "  0.004810141887820146 1 0 0 0]]\n"
     ]
    }
   ],
   "source": [
    "# flag all non-one-to-one\n",
    "# takes 30 secs to complete\n",
    "for i,m in enumerate(tqdm(catalogue)):\n",
    "    p1ra,p1dec,p2ra,p2dec = m[1],m[2],m[4],m[5]\n",
    "    # again, abusing sorting to only check nearby\n",
    "    nearby = 10\n",
    "    if nearby < i < len(catalogue)-nearby:\n",
    "        rest_wo = np.concatenate((catalogue[i-nearby:i],catalogue[i+1:i+1+nearby]))\n",
    "    elif i < nearby:\n",
    "        rest_wo = np.concatenate((catalogue[:i],catalogue[i+1:i+1+nearby]))\n",
    "    elif len(catalogue)-nearby < i:\n",
    "        rest_wo = np.concatenate((catalogue[i-nearby:i],catalogue[i+1:]))\n",
    "\n",
    "    tgss_wo = rest_wo[:,(1,2)]\n",
    "    nvss_wo = rest_wo[:,(4,5)]\n",
    "    \n",
    "    #if ([p1ra,p1dec] in tgss_wo or [p2ra,p2dec] in nvss_wo):\n",
    "    if (np.any((tgss_wo[:]==[p1ra,p1dec]).all(1)) or\n",
    "        np.any((nvss_wo[:]==[p2ra,p2dec]).all(1))):\n",
    "        catalogue[i][7] = 1\n",
    "\n",
    "# paper says 553301 tgss non-unique sources in 30''\n",
    "print('catalogue:',catalogue.shape)\n",
    "print(catalogue[:5])"
   ]
  },
  {
   "cell_type": "code",
   "execution_count": 6,
   "metadata": {},
   "outputs": [],
   "source": [
    "# f%%ss means flux attached: ra, dec, peak flux\n",
    "tgss_labels = np.genfromtxt('TGSSADR1_7sigma_catalog.tsv',\n",
    "                            delimiter='\\t', skip_header=1, usecols=0, dtype=str)\n",
    "# tgss_labels = np.array([name[8:] for name in tgss_labels.tolist()])\n",
    "ftgss = np.genfromtxt('TGSSADR1_7sigma_catalog.tsv',\n",
    "                      delimiter='\\t', skip_header=1, usecols=(1,3,7))\n",
    "tgss_labels = tgss_labels[ftgss[:,1].argsort()]\n",
    "ftgss = ftgss[ftgss[:,1].argsort()]"
   ]
  },
  {
   "cell_type": "code",
   "execution_count": 7,
   "metadata": {},
   "outputs": [],
   "source": [
    "with fits.open(\"CATALOG.FIT\") as hdulist:\n",
    "    data = hdulist[1].data\n",
    "    # jansky?!/beam\n",
    "    fnvss = np.column_stack((data['RA(2000)'],data['DEC(2000)'],data['PEAK INT']))\n",
    "fnvss = fnvss[fnvss[:,1].argsort()]"
   ]
  },
  {
   "cell_type": "code",
   "execution_count": 8,
   "metadata": {},
   "outputs": [],
   "source": [
    "# divmod returns quotient and remainder\n",
    "def deci_deg_to_deg_min_sec(deci_deg):\n",
    "    \"\"\"https://stackoverflow.com/questions/2579535\\\n",
    "    /convert-dd-decimal-degrees-to-dms-degrees-minutes-seconds-in-python\"\"\"\n",
    "    is_positive = (deci_deg >= 0)\n",
    "    deci_deg = abs(deci_deg)\n",
    "    minutes,seconds = divmod(deci_deg*3600,60)\n",
    "    degrees,minutes = divmod(minutes,60)\n",
    "    degrees = degrees if is_positive else -degrees\n",
    "    return (degrees,minutes,seconds)\n",
    "\n",
    "def deci_deg_to_hr_min_sec(deci_deg):\n",
    "    \"\"\"assume deci_deg +ve\"\"\"\n",
    "    deci_hours = deci_deg/15.\n",
    "    schminutes,schmeconds = divmod(deci_hours*3600,60)\n",
    "    hours,schminutes = divmod(schminutes,60)   \n",
    "    #assert hours*15+schminutes*15/60+schmeconds*15/3600 == deci_deg\n",
    "    return (hours,schminutes,schmeconds)"
   ]
  },
  {
   "cell_type": "code",
   "execution_count": 9,
   "metadata": {},
   "outputs": [],
   "source": [
    "# generate NVSS names as per https://heasarc.gsfc.nasa.gov/W3Browse/all/nvss.html\n",
    "def iau_designation(ra,dec):\n",
    "    hr,schmin,schmec = deci_deg_to_hr_min_sec(ra)\n",
    "    rhh = str(int(hr)).zfill(2)\n",
    "    rmm = str(int(schmin)).zfill(2)\n",
    "    rss = str(int(schmec - schmec%1)).zfill(2)\n",
    "\n",
    "    deg,minu,sec = deci_deg_to_deg_min_sec(dec)\n",
    "    sgn = '+' if deg>=0 else '-'\n",
    "    ddd = str(int(abs(deg))).zfill(2)\n",
    "    dmm = str(int(minu)).zfill(2)\n",
    "    dss = str(int(sec - sec%1)).zfill(2)\n",
    "\n",
    "    designation = ''.join(('NVSS J',rhh,rmm,rss,sgn,ddd,dmm,dss))\n",
    "    return designation"
   ]
  },
  {
   "cell_type": "code",
   "execution_count": 10,
   "metadata": {},
   "outputs": [
    {
     "data": {
      "application/vnd.jupyter.widget-view+json": {
       "model_id": "84736e6d0bd34ae883ffa20dba78fd3b",
       "version_major": 2,
       "version_minor": 0
      },
      "text/plain": [
       "HBox(children=(IntProgress(value=0, max=1810672), HTML(value='')))"
      ]
     },
     "metadata": {},
     "output_type": "display_data"
    },
    {
     "name": "stdout",
     "output_type": "stream",
     "text": [
      "\n"
     ]
    }
   ],
   "source": [
    "# takes about 10 seconds to run\n",
    "# runs off the sorted fnvss and will follow the same indicies\n",
    "nvss_labels = np.array([iau_designation(p[0],p[1]) for p in tqdm(fnvss)])"
   ]
  },
  {
   "cell_type": "code",
   "execution_count": 11,
   "metadata": {},
   "outputs": [],
   "source": [
    "# tgss in mJy/beam\n",
    "tgssbeam = 25#''\n",
    "ftgss[:,2] = ftgss[:,2]*1e-3#*tgssbeam\n",
    "# nvss in Jy/beam\n",
    "nvssbeam = 45#''\n",
    "fnvss[:,2] = fnvss[:,2]#*nvssbeam"
   ]
  },
  {
   "cell_type": "code",
   "execution_count": 12,
   "metadata": {},
   "outputs": [
    {
     "data": {
      "application/vnd.jupyter.widget-view+json": {
       "model_id": "b4003344bb584cd78e902d2d58329822",
       "version_major": 2,
       "version_minor": 0
      },
      "text/plain": [
       "HBox(children=(IntProgress(value=0, max=720631), HTML(value='')))"
      ]
     },
     "metadata": {},
     "output_type": "display_data"
    },
    {
     "name": "stdout",
     "output_type": "stream",
     "text": [
      "\n"
     ]
    }
   ],
   "source": [
    "# add labels, flux densities, and spectral index to catalogue\n",
    "# Tname,Tra,Tdec,Nname,Nra,Ndec,sepdist,nonuniqueflag,Tflux,Nflux,alpha\n",
    "freq_nvss, freq_tgss = 1.4e9,150e6\n",
    "\n",
    "# takes less than 10 seconds to run\n",
    "for i,m in enumerate(tqdm(catalogue)):\n",
    "    tdec,ndec = m[2],m[5]\n",
    "    # searchsorted gives index value if equal to or next if not\n",
    "    ti = np.searchsorted(ftgss[:,1],tdec)\n",
    "    ni = np.searchsorted(fnvss[:,1],ndec)\n",
    "    t_name,n_name = tgss_labels[ti],nvss_labels[ni]\n",
    "    s_tgss,s_nvss = ftgss[ti][2],fnvss[ni][2]\n",
    "    alpha = np.log(s_tgss/s_nvss)/np.log(freq_nvss/freq_tgss)\n",
    "    \n",
    "    catalogue[i][0] = t_name\n",
    "    catalogue[i][3] = n_name\n",
    "    catalogue[i][8] = s_tgss\n",
    "    catalogue[i][9] = s_nvss\n",
    "    catalogue[i][10] = alpha\n",
    "\n",
    "catalogue_fmt = ('%s','%1.5f','%1.5f','%s','%1.14f','%1.14f',\n",
    "                 '%1.18f','%i','%1.5f','%1.5f','%1.5f')\n",
    "np.savetxt('catalogue.csv', catalogue, delimiter=',',fmt = catalogue_fmt)"
   ]
  },
  {
   "cell_type": "code",
   "execution_count": 13,
   "metadata": {},
   "outputs": [
    {
     "data": {
      "image/png": "[encoded data removed]",
      "text/plain": [
       "<Figure size 1008x504 with 1 Axes>"
      ]
     },
     "metadata": {},
     "output_type": "display_data"
    }
   ],
   "source": [
    "# create histogram of angular separation of matches\n",
    "# create list of angular separations\n",
    "seps = [3600*val for val in catalogue[:,6]]\n",
    "\n",
    "plt.figure(figsize=(14,7))\n",
    "plt.rcParams.update({'font.size': 18})\n",
    "plt.hist(seps, bins=100,color = \"darkmagenta\", ec=\"orchid\")\n",
    "plt.xlabel(\"angular separation, '' (arcsec)\")\n",
    "plt.ylabel('counts')\n",
    "plt.title('distribution of angular separation of matches')\n",
    "# plt.show()\n",
    "plt.savefig('hist_angle.png',bbox_inches='tight')\n",
    "# plt.clf()"
   ]
  },
  {
   "cell_type": "code",
   "execution_count": 14,
   "metadata": {},
   "outputs": [
    {
     "data": {
      "image/png": "[encoded data removed]",
      "text/plain": [
       "<Figure size 1008x504 with 1 Axes>"
      ]
     },
     "metadata": {},
     "output_type": "display_data"
    }
   ],
   "source": [
    "plt.rcParams.update({'font.size': 18})\n",
    "alpha = catalogue[:,10]\n",
    "s_tgss = catalogue[:,8]*1e3\n",
    "allalpha = alpha,alpha[s_tgss>50],alpha[s_tgss>100],alpha[s_tgss>150],alpha[s_tgss>200]\n",
    "\n",
    "fig,axis = plt.subplots(figsize=(14,7))\n",
    "plt.hist(allalpha, bins=200, histtype='step', stacked=False, fill=False,\\\n",
    "         label=['no cut','S_tgss>50mJy','S_tgss>100mJy','S_tgss>150mJy','S_tgss>200mJy'],\\\n",
    "         color=['black','limegreen','orange','magenta','darkblue'])\n",
    "plt.legend(loc='upper right')\n",
    "handles, labels = axis.get_legend_handles_labels()\n",
    "plt.legend(reversed(handles), reversed(labels))\n",
    "plt.xlim(0,2.5)\n",
    "plt.xlabel(\"observed spectral index\")\n",
    "plt.ylabel('counts')\n",
    "plt.title('distribution of observed spectral index of matches')\n",
    "# plt.show()\n",
    "plt.savefig('hist_alpha.png',bbox_inches='tight')\n",
    "# plt.clf()"
   ]
  },
  {
   "cell_type": "code",
   "execution_count": null,
   "metadata": {},
   "outputs": [],
   "source": []
  }
 ],
 "metadata": {
  "kernelspec": {
   "display_name": "Python 3",
   "language": "python",
   "name": "python3"
  },
  "language_info": {
   "codemirror_mode": {
    "name": "ipython",
    "version": 3
   },
   "file_extension": ".py",
   "mimetype": "text/x-python",
   "name": "python",
   "nbconvert_exporter": "python",
   "pygments_lexer": "ipython3",
   "version": "3.6.8"
  }
 },
 "nbformat": 4,
 "nbformat_minor": 2
}
