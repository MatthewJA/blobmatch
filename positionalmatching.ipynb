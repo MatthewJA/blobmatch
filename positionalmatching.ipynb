{
 "cells": [
  {
   "cell_type": "code",
   "execution_count": 155,
   "metadata": {},
   "outputs": [],
   "source": [
    "#!/usr/bin/env python3\n",
    "\"\"\"positionalmatching.py\n",
    "James Gardner 2019\"\"\"\n",
    "\n",
    "import numpy as np"
   ]
  },
  {
   "cell_type": "code",
   "execution_count": 156,
   "metadata": {},
   "outputs": [
    {
     "name": "stdout",
     "output_type": "stream",
     "text": [
      "70 68\n"
     ]
    }
   ],
   "source": [
    "# surveys are in degrees, remember to convert where needed!\n",
    "getra = lambda : np.random.rand()*360\n",
    "getdec = lambda : np.random.rand()*180-90\n",
    "\n",
    "# surveys\n",
    "l1 = np.random.randint(50,100)\n",
    "l2 = np.random.randint(50,100)\n",
    "s1 = np.array([[getra(),getdec()] for _ in range(l1)])\n",
    "s2 = np.array([[getra(),getdec()] for _ in range(l2)])\n",
    "print(l1,l2)"
   ]
  },
  {
   "cell_type": "code",
   "execution_count": 157,
   "metadata": {},
   "outputs": [],
   "source": [
    "def dist(p1,p2):\n",
    "    \"\"\"in radians!!!\n",
    "    given two points close on the unit sphere,\n",
    "    return their geodesic distance\"\"\"\n",
    "    ra1,dec1,ra2,dec2 = p1[0],p1[1],p2[0],p2[1]\n",
    "    #https://en.wikipedia.org/wiki/Great-circle_distance#Formulae\n",
    "    #central = np.arccos(np.sin(dec1)*np.sin(dec2) +\\\n",
    "    #                   np.cos(dec1)*np.cos(dec2) * np.cos(ra1-ra2))\n",
    "    decdiff = (dec1-dec2)/2\n",
    "    radiff = (ra1-ra2)/2\n",
    "    betterc = 2*np.arcsin(np.sqrt(np.sin(decdiff)**2 +\\\n",
    "                        np.cos(dec1)*np.cos(dec2) * np.sin(radiff)**2))\n",
    "    #print('numerror: ',central-betterc,sep='')\n",
    "    return betterc*1\n",
    "\n",
    "def degdist(p1,p2):\n",
    "    \"\"\"calls dist on arguments,\n",
    "    after converting from deg to rad\"\"\"\n",
    "    return dist([x*np.pi/180 for x in p1],[x*np.pi/180 for x in p2])"
   ]
  },
  {
   "cell_type": "code",
   "execution_count": 149,
   "metadata": {},
   "outputs": [],
   "source": [
    "links1s2 = []\n",
    "for p1 in s1:\n",
    "    nearestneighbour = None\n",
    "    good = 0.1#0.02\n",
    "    for p2 in s2:\n",
    "        d = degdist(p1,p2)\n",
    "        if d < good:        \n",
    "            good = d\n",
    "            nearestneighbour = p2\n",
    "    links1s2.append([p1,nearestneighbour])\n",
    "    \n",
    "links2s1 = []\n",
    "for p2 in s2:\n",
    "    nearestneighbour = None\n",
    "    good = 0.1#0.02\n",
    "    for p1 in s1:\n",
    "        d = degdist(p2,p1)\n",
    "        if d < good:\n",
    "            good = d\n",
    "            nearestneighbour = p1\n",
    "    links2s1.append([p2,nearestneighbour])"
   ]
  },
  {
   "cell_type": "code",
   "execution_count": 150,
   "metadata": {},
   "outputs": [
    {
     "name": "stdout",
     "output_type": "stream",
     "text": [
      "21 22\n"
     ]
    }
   ],
   "source": [
    "ln12 = np.array([x for x in links1s2 if x[1] is not None])\n",
    "ln21 = np.array([x for x in links2s1 if x[1] is not None])\n",
    "print(len(ln12),len(ln21))"
   ]
  },
  {
   "cell_type": "code",
   "execution_count": 154,
   "metadata": {},
   "outputs": [],
   "source": [
    "mismatch = []\n",
    "\n",
    "if len(ln12) != len(ln21):\n",
    "    for p2 in ln12[:,1]:\n",
    "        if not p2 in ln21[:,0]:\n",
    "            mismatch.append(12,p2)\n",
    "    for p1 in ln21[:,1]:\n",
    "        if not p1 in ln12[:,0]:\n",
    "            mismatch.append(21,p1)\n",
    "            \n",
    "assert len(mismatch) == 0"
   ]
  },
  {
   "cell_type": "code",
   "execution_count": null,
   "metadata": {},
   "outputs": [],
   "source": []
  }
 ],
 "metadata": {
  "kernelspec": {
   "display_name": "Python 3",
   "language": "python",
   "name": "python3"
  },
  "language_info": {
   "codemirror_mode": {
    "name": "ipython",
    "version": 3
   },
   "file_extension": ".py",
   "mimetype": "text/x-python",
   "name": "python",
   "nbconvert_exporter": "python",
   "pygments_lexer": "ipython3",
   "version": "3.6.8"
  }
 },
 "nbformat": 4,
 "nbformat_minor": 2
}
