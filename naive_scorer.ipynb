{
 "cells": [
  {
   "cell_type": "code",
   "execution_count": 1,
   "metadata": {},
   "outputs": [],
   "source": [
    "\"\"\"James Gardner 2019\"\"\"\n",
    "import pandas as pd\n",
    "import numpy as np\n",
    "from tqdm import tqdm_notebook as tqdm\n",
    "import matplotlib.pyplot as plt"
   ]
  },
  {
   "cell_type": "code",
   "execution_count": 2,
   "metadata": {},
   "outputs": [],
   "source": [
    "catalogue = pd.read_csv('patch_catalogue.csv')\n",
    "catalogue.set_index(['name_TGSS','name_NVSS'], inplace=True)\n",
    "# catalogue = catalogue.set_index(['name_TGSS','name_NVSS'],inplace=True)\n",
    "\n",
    "cat_matches = set(catalogue.index.values)"
   ]
  },
  {
   "cell_type": "code",
   "execution_count": 3,
   "metadata": {},
   "outputs": [],
   "source": [
    "tgss_df = pd.read_csv('tgss.csv')\n",
    "tgss_df.set_index('name_TGSS', inplace=True)\n",
    "\n",
    "nvss_df = pd.read_csv('nvss.csv')\n",
    "nvss_df.set_index('name_NVSS', inplace=True)"
   ]
  },
  {
   "cell_type": "code",
   "execution_count": 4,
   "metadata": {},
   "outputs": [],
   "source": [
    "def naivest_scorer(name_TGSS,name_NVSS):\n",
    "    \"\"\"given two names, tells if in catalogue\"\"\"  \n",
    "    if (name_TGSS,name_NVSS) in catalogue.index:\n",
    "        return 1\n",
    "    else:\n",
    "        return 0"
   ]
  },
  {
   "cell_type": "code",
   "execution_count": 5,
   "metadata": {},
   "outputs": [],
   "source": [
    "def separation_scorer(name_TGSS,name_NVSS):\n",
    "    \"\"\"given two names, gives separation\n",
    "    by set-up, only gives non-zero for those in catalogue\"\"\"\n",
    "    if (name_TGSS,name_NVSS) in catalogue.index:\n",
    "        sep = catalogue.loc[name_TGSS,name_NVSS].separation\n",
    "        sep *= 3600\n",
    "        return max(0,(40-sep)/40)\n",
    "    else:\n",
    "        return 0"
   ]
  },
  {
   "cell_type": "code",
   "execution_count": 6,
   "metadata": {},
   "outputs": [],
   "source": [
    "def spectral_scorer(name_TGSS,name_NVSS):\n",
    "    \"\"\"given two names, not necessarially in catalogue\n",
    "    returns score using hist_alpha dist as pdf\n",
    "    takes two arbitrary names, looks them up in respective\n",
    "    catalogues, and runs the scorer on them\"\"\"\n",
    "\n",
    "    alpha = catalogue['spectral_alpha'].values\n",
    "    num_alpha_bins = 100\n",
    "    pdf_alpha = np.histogram(alpha,bins=num_alpha_bins,density=True)\n",
    "    a0,a1 = np.min(alpha),np.max(alpha)    \n",
    "    \n",
    "    obj_t = tgss_df.loc[name_TGSS]\n",
    "    obj_n = nvss_df.loc[name_NVSS]\n",
    "    \n",
    "    FREQ_TGSS,FREQ_NVSS = 150e6,1.4e9\n",
    "    my_alpha = np.log(obj_t['peak_TGSS']/obj_n['peak_NVSS']\n",
    "                     )/np.log(FREQ_NVSS/FREQ_TGSS)\n",
    "\n",
    "    if my_alpha < a0 or a1 < my_alpha:\n",
    "        return 0\n",
    "    else:\n",
    "        #re-normalise\n",
    "        pval = pdf_alpha[0][min(np.searchsorted(pdf_alpha[1],my_alpha),\n",
    "                                len(pdf_alpha[0])-1)]\n",
    "        pval = pval/(a1-a0)\n",
    "        return pval"
   ]
  },
  {
   "cell_type": "code",
   "execution_count": 7,
   "metadata": {},
   "outputs": [],
   "source": [
    "def combo_scorer(name_TGSS,name_NVSS):\n",
    "    \"\"\"weighted score from sep and alpha pdf\n",
    "    non-naive scorer uses separation and spectral index\n",
    "    \"\"\"\n",
    "    s1 = separation_scorer(name_TGSS,name_NVSS)\n",
    "    s2 = spectral_scorer(name_TGSS,name_NVSS)\n",
    "    # change w1 to rebalance\n",
    "    w1 = 0.8\n",
    "    w2 = 1-w1\n",
    "    return w1*s1+w2*s2"
   ]
  },
  {
   "cell_type": "code",
   "execution_count": 8,
   "metadata": {},
   "outputs": [],
   "source": [
    "def score_the_cat(catalogue,scorer,hist_name=None):\n",
    "    \"\"\"evaluates the scorer on each match in the catalogue,\n",
    "    saves a histogram of the scores\n",
    "    \"\"\"\n",
    "    stc = np.array([scorer(name_TGSS,name_NVSS) for \n",
    "                    (name_TGSS,name_NVSS) in tqdm(cat_matches)])\n",
    "    stc = stc[stc!=0]\n",
    "    \n",
    "    # normalise, top score is now 1\n",
    "    top = np.max(stc)\n",
    "    stc = stc*1/top    \n",
    "    \n",
    "    if hist_name is None:\n",
    "        hist_name = 'hist_patch_cat_score'\n",
    "        \n",
    "    # display histogram of scores\n",
    "    plt.figure(figsize=(14,7))\n",
    "    plt.rcParams.update({'font.size': 18})\n",
    "    plt.hist(stc, bins=100)#,color = \"darkmagenta\", ec=\"orchid\")\n",
    "    plt.xlim(-0.01,1.01)\n",
    "    plt.xlabel(\"match score\")\n",
    "    plt.ylabel('counts')\n",
    "    plt.title('distribution of scores of catalogue matches in patch')\n",
    "    plt.savefig('{}.png'.format(hist_name),bbox_inches='tight')    "
   ]
  },
  {
   "cell_type": "code",
   "execution_count": 9,
   "metadata": {},
   "outputs": [
    {
     "data": {
      "application/vnd.jupyter.widget-view+json": {
       "model_id": "4a75a37a494046ee9737f1bf3e5d8717",
       "version_major": 2,
       "version_minor": 0
      },
      "text/plain": [
       "HBox(children=(IntProgress(value=0, max=940), HTML(value='')))"
      ]
     },
     "metadata": {},
     "output_type": "display_data"
    },
    {
     "name": "stdout",
     "output_type": "stream",
     "text": [
      "\n"
     ]
    },
    {
     "data": {
      "application/vnd.jupyter.widget-view+json": {
       "model_id": "a37bc034ab2e4608b76baab0e179a79f",
       "version_major": 2,
       "version_minor": 0
      },
      "text/plain": [
       "HBox(children=(IntProgress(value=0, max=940), HTML(value='')))"
      ]
     },
     "metadata": {},
     "output_type": "display_data"
    },
    {
     "name": "stdout",
     "output_type": "stream",
     "text": [
      "\n"
     ]
    },
    {
     "data": {
      "application/vnd.jupyter.widget-view+json": {
       "model_id": "9c419f6c428a495da0c9774ab45105ca",
       "version_major": 2,
       "version_minor": 0
      },
      "text/plain": [
       "HBox(children=(IntProgress(value=0, max=940), HTML(value='')))"
      ]
     },
     "metadata": {},
     "output_type": "display_data"
    },
    {
     "name": "stdout",
     "output_type": "stream",
     "text": [
      "\n"
     ]
    },
    {
     "data": {
      "application/vnd.jupyter.widget-view+json": {
       "model_id": "e6382c3c7dfc47178a315bcc14a35535",
       "version_major": 2,
       "version_minor": 0
      },
      "text/plain": [
       "HBox(children=(IntProgress(value=0, max=940), HTML(value='')))"
      ]
     },
     "metadata": {},
     "output_type": "display_data"
    },
    {
     "name": "stdout",
     "output_type": "stream",
     "text": [
      "\n"
     ]
    },
    {
     "data": {
      "image/png": "[encoded data removed]",
      "text/plain": [
       "<Figure size 1008x504 with 1 Axes>"
      ]
     },
     "metadata": {},
     "output_type": "display_data"
    },
    {
     "data": {
      "image/png": "[encoded data removed]",
      "text/plain": [
       "<Figure size 1008x504 with 1 Axes>"
      ]
     },
     "metadata": {},
     "output_type": "display_data"
    },
    {
     "data": {
      "image/png": "[encoded data removed]",
      "text/plain": [
       "<Figure size 1008x504 with 1 Axes>"
      ]
     },
     "metadata": {},
     "output_type": "display_data"
    },
    {
     "data": {
      "image/png": "[encoded data removed]",
      "text/plain": [
       "<Figure size 1008x504 with 1 Axes>"
      ]
     },
     "metadata": {},
     "output_type": "display_data"
    }
   ],
   "source": [
    "hist_names = {'hist_patch_cat_score_naive':naivest_scorer,\n",
    "              'hist_patch_cat_score_separation':separation_scorer,\n",
    "              'hist_patch_cat_score_spectral':spectral_scorer,\n",
    "              'hist_patch_cat_score_combo':combo_scorer}\n",
    "\n",
    "for key in hist_names:\n",
    "    score_the_cat(catalogue,hist_names[key],key)"
   ]
  },
  {
   "cell_type": "code",
   "execution_count": 10,
   "metadata": {},
   "outputs": [],
   "source": [
    "def looper_TGSS_scorer(name_TGSS,scorer):\n",
    "    best_match = (0,'')\n",
    "    for name_NVSS in nvss_df.index.values:\n",
    "        score = scorer(name_TGSS,name_NVSS)\n",
    "        if best_match[0] < score:\n",
    "            best_match = (score,name_NVSS)\n",
    "    return best_match\n",
    "\n",
    "def looper_NVSS_scorer(name_NVSS,scorer):\n",
    "    best_match = (0,'')\n",
    "    for name_TGSS in tgss_df.index.values:\n",
    "        score = scorer(name_TGSS,name_NVSS)\n",
    "        if best_match[0] < score:\n",
    "            best_match = (score,name_TGSS)\n",
    "    return best_match"
   ]
  },
  {
   "cell_type": "code",
   "execution_count": 16,
   "metadata": {},
   "outputs": [
    {
     "data": {
      "application/vnd.jupyter.widget-view+json": {
       "model_id": "fd736a56503846fba3546d9c5e9ea47d",
       "version_major": 2,
       "version_minor": 0
      },
      "text/plain": [
       "HBox(children=(IntProgress(value=0, max=411), HTML(value='')))"
      ]
     },
     "metadata": {},
     "output_type": "display_data"
    },
    {
     "name": "stdout",
     "output_type": "stream",
     "text": [
      "\n"
     ]
    },
    {
     "data": {
      "application/vnd.jupyter.widget-view+json": {
       "model_id": "439c5030f98241a18a84c569febf225c",
       "version_major": 2,
       "version_minor": 0
      },
      "text/plain": [
       "HBox(children=(IntProgress(value=0, max=1157), HTML(value='')))"
      ]
     },
     "metadata": {},
     "output_type": "display_data"
    },
    {
     "name": "stdout",
     "output_type": "stream",
     "text": [
      "\n"
     ]
    },
    {
     "data": {
      "application/vnd.jupyter.widget-view+json": {
       "model_id": "fd7becafb4964378a6b8df370bad65fd",
       "version_major": 2,
       "version_minor": 0
      },
      "text/plain": [
       "HBox(children=(IntProgress(value=0, max=940), HTML(value='')))"
      ]
     },
     "metadata": {},
     "output_type": "display_data"
    },
    {
     "name": "stdout",
     "output_type": "stream",
     "text": [
      "\n"
     ]
    }
   ],
   "source": [
    "# sort the sky\n",
    "tgss_df.reset_index(inplace=True)\n",
    "best_match = np.array([looper_TGSS_scorer(name_TGSS,separation_scorer)\n",
    "                       for name_TGSS in tqdm(tgss_df['name_TGSS'])])\n",
    "tgss_df['score'] = best_match[:,0]\n",
    "tgss_df['best_match'] = best_match[:,1]\n",
    "tgss_df.set_index('name_TGSS',inplace=True)\n",
    "tgss_df.sort_values(by=['score'],inplace=True)\n",
    "\n",
    "nvss_df.reset_index(inplace=True)\n",
    "best_match = np.array([looper_NVSS_scorer(name_NVSS,separation_scorer)\n",
    "                       for name_NVSS in tqdm(nvss_df['name_NVSS'])])\n",
    "nvss_df['score'] = best_match[:,0]\n",
    "nvss_df['best_match'] = best_match[:,1]\n",
    "nvss_df.set_index('name_NVSS',inplace=True)\n",
    "nvss_df.sort_values(by=['score'],inplace=True)\n",
    "\n",
    "scores = [separation_scorer(name_TGSS,name_NVSS)\n",
    "          for (name_TGSS,name_NVSS) in tqdm(cat_matches)]\n",
    "catalogue['score'] = scores\n",
    "catalogue.sort_values(by=['score'],inplace=True)"
   ]
  },
  {
   "cell_type": "code",
   "execution_count": null,
   "metadata": {},
   "outputs": [],
   "source": []
  },
  {
   "cell_type": "code",
   "execution_count": 12,
   "metadata": {},
   "outputs": [],
   "source": [
    "def old_naivest_scorer(tobj,nobj):\n",
    "    \"\"\"given two names, tells if in catalogue\"\"\"\n",
    "    if np.any(np.equal(names,[tobj,nobj]).all(1)):\n",
    "        return 1\n",
    "    else:\n",
    "        return 0\n",
    "\n",
    "def old_naive_scorer(tobj,nobj):\n",
    "    \"\"\"given two names, if unique match in catalogue, then gives separation\"\"\"\n",
    "    \n",
    "    # COMMENT BACK IN TO SLOW DOWN\n",
    "    #if not np.any(np.equal(names,[tobj,nobj]).all(1)):\n",
    "    #    return 0\n",
    "\n",
    "    c_index = int(np.where(np.all(names==[tobj,nobj],axis=1))[0])    \n",
    "    # look up pandas lookup\n",
    "    \n",
    "    #UNIQUENESS FLAG\n",
    "    if catalogue[c_index][7] == 1:\n",
    "        return 0\n",
    "    \n",
    "    sep = catalogue[c_index][6]*3600\n",
    "    return max(40-sep,0)/40\n",
    "\n",
    "# alpha = catalogue[:,10]\n",
    "# # hist_alpha = np.histogram(alpha,bins=200,density=False)\n",
    "# pdf_alpha = np.histogram(alpha,bins=200,density=True)\n",
    "# # print(pdf_alpha)\n",
    "# a0,a1 = np.min(alpha),np.max(alpha)\n",
    "\n",
    "def old_spectral_scorer(tobj,nobj):\n",
    "    \"\"\"given two names, if unique match in catalogue,\n",
    "    returns score using hist_alpha dist as pdf\"\"\"\n",
    "    \n",
    "    c_index = int(np.where(np.all(names==[tobj,nobj],axis=1))[0])    \n",
    "\n",
    "    if catalogue[c_index][7] == 1:\n",
    "        return 0    \n",
    "    \n",
    "    my_alpha = catalogue[c_index][10]\n",
    "    if my_alpha < a0 or a1 < my_alpha:\n",
    "        return 0\n",
    "    \n",
    "    # histogram(density=True) gives pdf not prob mass function, need to renormalise\n",
    "    pval = pdf_alpha[0][np.searchsorted(pdf_alpha[1],my_alpha)]\n",
    "    pval = pval/(a1-a0)\n",
    "    return pval\n",
    "\n",
    "def old_combo_scorer(tobj,nobj):\n",
    "    \"\"\"even split, sep and alpha pdf\n",
    "    non-naive scorer could use separation, non-uniqueness flag, spectral index\n",
    "    \"\"\"\n",
    "    s1 = naive_scorer(tobj,nobj)\n",
    "    s2 = spectral_scorer(tobj,nobj)\n",
    "    # change w1 to rebalance\n",
    "    w1 = 0.2\n",
    "    w2 = 1-w1\n",
    "    return w1*s1+w2*s2\n",
    "\n",
    "def old_score_the_cat(catalogue,scorer,hist_name=None):\n",
    "    \"\"\"evaluates the scorer on each match in the catalogue,\n",
    "    saves a histogram of the scores\"\"\"\n",
    "    cat_names = catalogue[:,(0,3)]\n",
    "    if hist_name is None:\n",
    "        hist_name = 'hist_cat_score'\n",
    "    \n",
    "    stc = np.zeros(len(cat_names))\n",
    "    for i,n in enumerate(tqdm(cat_names)):\n",
    "        stc[i] = scorer(n[0],n[1])\n",
    "    #return stc\n",
    "    \n",
    "    # drop all zero scores\n",
    "    stc = stc[stc!=0]\n",
    "        \n",
    "    # normalise, top score is now 1\n",
    "    #top = np.max(stc)c\n",
    "    #stc = stc*1/top    \n",
    "        \n",
    "    # display histogram of scores\n",
    "    plt.figure(figsize=(14,7))\n",
    "    plt.rcParams.update({'font.size': 18})\n",
    "    plt.hist(stc, bins=100)#,color = \"darkmagenta\", ec=\"orchid\")\n",
    "    plt.xlim(-0.01,1.01)\n",
    "    plt.xlabel(\"match score\")\n",
    "    plt.ylabel('counts')\n",
    "    plt.title('distribution of scores of catalogue matches')\n",
    "    plt.savefig('{}.png'.format(hist_name),bbox_inches='tight')\n",
    "    \n",
    "# old_score_the_cat(catalogue[:1000],naivest_scorer,'hist_cat_score_naivest')\n",
    "# old_score_the_cat(catalogue[:10000],naive_scorer,'hist_cat_score_naive')\n",
    "# old_score_the_cat(catalogue[:1000],spectral_scorer,'hist_cat_score_spectral')\n",
    "# old_score_the_cat(catalogue[:1000],combo_scorer,'hist_cat_score_combo')    "
   ]
  },
  {
   "cell_type": "code",
   "execution_count": 13,
   "metadata": {},
   "outputs": [],
   "source": [
    "# \"\"\"\n",
    "# p_dec = -35\n",
    "# p_ra  = 149\n",
    "# patch_size = 5\n",
    "# sep_lim = 5*1/60\n",
    "# patch_dec = (p_dec < catalogue['dec_TGSS']) & (catalogue['dec_TGSS'] < p_dec+patch_size)\n",
    "# patch_ra =  (p_ra  < catalogue['ra_TGSS'])  & (catalogue['ra_TGSS']  < p_ra+patch_size)\n",
    "# cat_in_box = catalogue[patch_dec & patch_ra]#.describe().dropna()\n",
    "# cat_in_box = cat_in_box[cat_in_box['separation'] < sep_lim]\n",
    "# \"\"\""
   ]
  },
  {
   "cell_type": "code",
   "execution_count": 14,
   "metadata": {},
   "outputs": [],
   "source": [
    "# catalogue = pd.read_csv('catalogue.csv', names = \n",
    "#                        ['name_TGSS','ra_TGSS','dec_TGSS','name_NVSS','ra_NVSS','dec_NVSS',\n",
    "#                         'separation','is_non-unique','S_TGSS','S_NVSS','spectral_alpha'])\n",
    "# catalogue.set_index(['name_TGSS','name_NVSS'],inplace=True)"
   ]
  }
 ],
 "metadata": {
  "kernelspec": {
   "display_name": "Python 3",
   "language": "python",
   "name": "python3"
  },
  "language_info": {
   "codemirror_mode": {
    "name": "ipython",
    "version": 3
   },
   "file_extension": ".py",
   "mimetype": "text/x-python",
   "name": "python",
   "nbconvert_exporter": "python",
   "pygments_lexer": "ipython3",
   "version": "3.6.8"
  }
 },
 "nbformat": 4,
 "nbformat_minor": 2
}
